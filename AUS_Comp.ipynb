{
  "nbformat": 4,
  "nbformat_minor": 0,
  "metadata": {
    "colab": {
      "provenance": [],
      "include_colab_link": true
    },
    "kernelspec": {
      "name": "python3",
      "display_name": "Python 3"
    },
    "language_info": {
      "name": "python"
    }
  },
  "cells": [
    {
      "cell_type": "markdown",
      "metadata": {
        "id": "view-in-github",
        "colab_type": "text"
      },
      "source": [
        "<a href=\"https://colab.research.google.com/github/Aravsharma1/AUSComp/blob/main/AUS_Comp.ipynb\" target=\"_parent\"><img src=\"https://colab.research.google.com/assets/colab-badge.svg\" alt=\"Open In Colab\"/></a>"
      ]
    },
    {
      "cell_type": "code",
      "execution_count": null,
      "metadata": {
        "id": "JA8WX1D6tFzx"
      },
      "outputs": [],
      "source": [
        "import sklearn\n",
        "import numpy as np\n",
        "from sklearn.datasets import load_breast_cancer\n",
        "from sklearn.model_selection import train_test_split\n",
        "from sklearn.ensemble import AdaBoostClassifier\n",
        "features, labels = load_breast_cancer(return_X_y = True)\n",
        "from statistics import mean\n"
      ]
    },
    {
      "cell_type": "code",
      "source": [
        "accuracies = [] # Used to keep track of values and calculate the mean\n",
        "\n",
        "print(f\"PART A - Model Performance on Testing Data:\\n\")\n",
        "\n",
        "for x in range(5):\n",
        "\n",
        "  features_train, features_test, labels_train, labels_test = train_test_split(features, labels, train_size=0.8, test_size=0.2)\n",
        "  model = AdaBoostClassifier()\n",
        "  model.fit(features_train, labels_train)\n",
        "\n",
        "  accuracy = model.score(features_test, labels_test) # Finding accuracy on testing subset\n",
        "  num_incorrect = round((1-accuracy) * (labels_test.shape[0])) # Multiples the percentage inaccuracy by the total number of predictions\n",
        "  accuracies.append(accuracy)\n",
        "\n",
        "  print(f\"Run #{x+1}:\\nAccuracy: {accuracy*100} %\\nNumber of incorrect predictions: {num_incorrect}\\n\")\n",
        "\n",
        "print(f\"Mean Accuracy: {mean(accuracies) * 100} %\\n\\n\") # Mean function from statistics library"
      ],
      "metadata": {
        "colab": {
          "base_uri": "https://localhost:8080/"
        },
        "id": "zT2Hc_N71B1m",
        "outputId": "86686320-a50c-427f-8656-bf00ab2921a1"
      },
      "execution_count": null,
      "outputs": [
        {
          "output_type": "stream",
          "name": "stdout",
          "text": [
            "PART A - Model Performance on Testing Data:\n",
            "\n",
            "Run #1:\n",
            "Accuracy: 93.85964912280701 %\n",
            "Number of incorrect predictions: 7\n",
            "\n",
            "Run #2:\n",
            "Accuracy: 94.73684210526315 %\n",
            "Number of incorrect predictions: 6\n",
            "\n",
            "Run #3:\n",
            "Accuracy: 96.49122807017544 %\n",
            "Number of incorrect predictions: 4\n",
            "\n",
            "Run #4:\n",
            "Accuracy: 95.6140350877193 %\n",
            "Number of incorrect predictions: 5\n",
            "\n",
            "Run #5:\n",
            "Accuracy: 98.24561403508771 %\n",
            "Number of incorrect predictions: 2\n",
            "\n",
            "Mean Accuracy: 95.78947368421052 %\n"
          ]
        }
      ]
    },
    {
      "cell_type": "code",
      "source": [
        "accuracies_B = [] # Used to keep track of values and calculate the mean\n",
        "\n",
        "print(f\"PART B - Model Performance on Training Data:\\n\")\n",
        "\n",
        "for x in range(5):\n",
        "\n",
        "  features_train, features_test, labels_train, labels_test = train_test_split(features, labels, train_size=0.8, test_size=0.2)\n",
        "  model = AdaBoostClassifier()\n",
        "  model.fit(features_test, labels_test)\n",
        "\n",
        "  accuracy = model.score(features_train, labels_train) # Finding accuracy on training subset\n",
        "  accuracies_B.append(accuracy)\n",
        "\n",
        "  print(f\"Run #{x+1}:\\nAccuracy: {accuracy*100} %\\n\")\n",
        "\n",
        "print(f\"Mean Accuracy: {mean(accuracies_B) * 100} %\\n\\n\") # Mean function from statistics library"
      ],
      "metadata": {
        "colab": {
          "base_uri": "https://localhost:8080/"
        },
        "id": "6VkAXTs72KOn",
        "outputId": "e5a41c60-aab0-4d82-e46b-30334daa5e48"
      },
      "execution_count": null,
      "outputs": [
        {
          "output_type": "stream",
          "name": "stdout",
          "text": [
            "PART B - Model Performance on Training Data:\n",
            "\n",
            "Run #1:\n",
            "Accuracy: 92.3076923076923 %\n",
            "\n",
            "Run #2:\n",
            "Accuracy: 93.4065934065934 %\n",
            "\n",
            "Run #3:\n",
            "Accuracy: 95.6043956043956 %\n",
            "\n",
            "Run #4:\n",
            "Accuracy: 95.82417582417582 %\n",
            "\n",
            "Run #5:\n",
            "Accuracy: 94.94505494505493 %\n",
            "\n",
            "Mean Accuracy: 94.41758241758242 %\n"
          ]
        }
      ]
    },
    {
      "cell_type": "code",
      "source": [
        "print(\"PART C - Comparison of Model Performance\\n\")\n",
        "\n",
        "\n",
        "if mean_acc > mean_acc_B:\n",
        "  print(f\"Part A produced greater average predicted accuracy of {mean_acc*100} %\\nPart A's average predicted accuracy was higher by {(mean_acc - mean_acc_B)*100} % \\n\")\n",
        "elif mean_acc == mean_acc_B:\n",
        "  print(f\"Part A and Part B produced the same average predicted accuracy of {mean_acc}\")\n",
        "else:\n",
        "  print(f\"Part B produced greater average predicted accuracy of {mean_acc_B*100} %\\nPart A's average predicted accuracy was higher by {(mean_acc_B - mean_acc)*100} % \\n\")\n",
        "\n",
        "\n",
        "highest, part = max(accuracies + accuracies_B), 'A' # Finding highest recorded accuracy and assuming it is from Part A unless disproven in next line.\n",
        "if (accuracies + accuracies_B).index(highest) > 4: part = 'B' # Checking which part the highest recorded value is from\n",
        "\n",
        "print(f\"Highest recorded accuracy was {highest*100} % and it came from part {part}\")"
      ],
      "metadata": {
        "colab": {
          "base_uri": "https://localhost:8080/"
        },
        "id": "qKBJr4QU40xX",
        "outputId": "12a39cf8-0ea1-4a8d-bbda-fd28e05c35d7"
      },
      "execution_count": null,
      "outputs": [
        {
          "output_type": "stream",
          "name": "stdout",
          "text": [
            "PART C - Comparison of Model Performance\n",
            "\n",
            "Part A produced greater average predicted accuracy of 95.78947368421053 %\n",
            "Part A's average predicted accuracy was higher by 2.426836321573189 % \n",
            "\n",
            "Highest recorded accuracy was 97.36842105263158 % and it came from part A\n"
          ]
        }
      ]
    },
    {
      "cell_type": "code",
      "source": [
        "import sklearn\n",
        "import numpy as np\n",
        "from sklearn.datasets import load_breast_cancer\n",
        "from sklearn.model_selection import train_test_split\n",
        "from sklearn.ensemble import AdaBoostClassifier\n",
        "features, labels = load_breast_cancer(return_X_y = True)\n",
        "from statistics import mean\n",
        "\n",
        "\n",
        "# PART A\n",
        "accuracies = [] # Used to keep track of values and calculate the mean\n",
        "\n",
        "print(f\"PART A - Model Performance on Testing Data:\\n\")\n",
        "\n",
        "for x in range(5):\n",
        "\n",
        "  features_train, features_test, labels_train, labels_test = train_test_split(features, labels, train_size=0.8, test_size=0.2)\n",
        "  model_1 = AdaBoostClassifier()\n",
        "  model_1.fit(features_train, labels_train)\n",
        "\n",
        "  accuracy = model_1.score(features_test, labels_test) # Finding accuracy on testing subset\n",
        "  num_incorrect = round((1-accuracy) * (labels_test.shape[0])) # Multiples the percentage inaccuracy by the total number of predictions\n",
        "  accuracies.append(accuracy)\n",
        "\n",
        "  print(f\"Run #{x+1}:\\nAccuracy: {accuracy*100} %\\nNumber of incorrect predictions: {num_incorrect}\\n\")\n",
        "\n",
        "mean_acc = mean(accuracies)\n",
        "print(f\"Mean Accuracy: {mean_acc * 100} %\\n\\n\") # Mean function from statistics library\n",
        "\n",
        "\n",
        "\n",
        "# PART B\n",
        "accuracies_B = [] # Used to keep track of values and calculate the mean\n",
        "\n",
        "print(f\"PART B - Model Performance on Training Data:\\n\")\n",
        "\n",
        "for x in range(5):\n",
        "\n",
        "  features_train, features_test, labels_train, labels_test = train_test_split(features, labels, train_size=0.8, test_size=0.2)\n",
        "  model_2 = AdaBoostClassifier()\n",
        "  model_2.fit(features_test, labels_test)\n",
        "\n",
        "  accuracy = model_2.score(features_train, labels_train) # Finding accuracy on training subset\n",
        "  accuracies_B.append(accuracy)\n",
        "\n",
        "  print(f\"Run #{x+1}:\\nAccuracy: {accuracy*100} %\\n\")\n",
        "\n",
        "mean_acc_B = mean(accuracies_B)\n",
        "print(f\"Mean Accuracy: {mean_acc_B * 100} %\\n\\n\") # Mean function from statistics library\n",
        "\n",
        "\n",
        "\n",
        "# PART C\n",
        "print(\"PART C - Comparison of Model Performance\\n\")\n",
        "\n",
        "if mean_acc > mean_acc_B:\n",
        "  print(f\"Part A produced greater average predicted accuracy of {mean_acc*100} %\\nPart A's average predicted accuracy was higher by {(mean_acc - mean_acc_B)*100} % \\n\")\n",
        "elif mean_acc == mean_acc_B:\n",
        "  print(f\"Part A and Part B produced the same average predicted accuracy of {mean_acc}\")\n",
        "else:\n",
        "  print(f\"Part B produced greater average predicted accuracy of {mean_acc_B*100} %\\nPart A's average predicted accuracy was higher by {(mean_acc_B - mean_acc)*100} % \\n\")\n",
        "\n",
        "\n",
        "highest, part = max(accuracies + accuracies_B), 'A' # Finding highest recorded accuracy and assuming it is from Part A unless disproven in next line.\n",
        "if (accuracies + accuracies_B).index(highest) > 4: part = 'B' # Checking which part the highest recorded value is from\n",
        "\n",
        "print(f\"Highest recorded accuracy was {highest*100} % and it came from part {part}\")\n"
      ],
      "metadata": {
        "colab": {
          "base_uri": "https://localhost:8080/"
        },
        "id": "cYU_QuAk6Qlh",
        "outputId": "a886980e-ab7a-4ecf-e15a-44166ad5b664"
      },
      "execution_count": null,
      "outputs": [
        {
          "output_type": "stream",
          "name": "stdout",
          "text": [
            "PART A - Model Performance on Testing Data:\n",
            "\n",
            "Run #1:\n",
            "Accuracy: 95.6140350877193 %\n",
            "Number of incorrect predictions: 5\n",
            "\n",
            "Run #2:\n",
            "Accuracy: 94.73684210526315 %\n",
            "Number of incorrect predictions: 6\n",
            "\n",
            "Run #3:\n",
            "Accuracy: 96.49122807017544 %\n",
            "Number of incorrect predictions: 4\n",
            "\n",
            "Run #4:\n",
            "Accuracy: 97.36842105263158 %\n",
            "Number of incorrect predictions: 3\n",
            "\n",
            "Run #5:\n",
            "Accuracy: 98.24561403508771 %\n",
            "Number of incorrect predictions: 2\n",
            "\n",
            "Mean Accuracy: 96.49122807017544 %\n",
            "\n",
            "\n",
            "PART B - Model Performance on Training Data:\n",
            "\n",
            "Run #1:\n",
            "Accuracy: 94.94505494505493 %\n",
            "\n",
            "Run #2:\n",
            "Accuracy: 94.28571428571428 %\n",
            "\n",
            "Run #3:\n",
            "Accuracy: 95.6043956043956 %\n",
            "\n",
            "Run #4:\n",
            "Accuracy: 95.6043956043956 %\n",
            "\n",
            "Run #5:\n",
            "Accuracy: 93.4065934065934 %\n",
            "\n",
            "Mean Accuracy: 94.76923076923077 %\n",
            "\n",
            "\n",
            "PART C - Comparison of Model Performance\n",
            "\n",
            "Part A produced greater average predicted accuracy of 96.49122807017544 %\n",
            "Part A's average predicted accuracy was higher by 1.7219973009446665 % \n",
            "\n",
            "Highest recorded accuracy was 98.24561403508771 % and it came from part A\n"
          ]
        }
      ]
    }
  ]
}